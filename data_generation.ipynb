{
 "cells": [
  {
   "cell_type": "code",
   "execution_count": 1,
   "id": "78f6f965",
   "metadata": {},
   "outputs": [],
   "source": [
    "import os\n",
    "import numpy as np\n",
    "import pandas as pd"
   ]
  },
  {
   "cell_type": "code",
   "execution_count": 2,
   "id": "2a9de74c",
   "metadata": {},
   "outputs": [],
   "source": [
    "def data_generation(df, n_synthetic=600, scale=0.1):\n",
    "    df_ml = df.copy()\n",
    "    \n",
    "    drop_cols = ['season_year', 'Year', 'District']\n",
    "    df_ml.drop(columns=[c for c in drop_cols if c in df_ml.columns], inplace=True)\n",
    "    \n",
    "    num_cols = df_ml.select_dtypes(include=np.number).columns.tolist()\n",
    "    \n",
    "    synthetic_rows = []\n",
    "    for _ in range(n_synthetic):\n",
    "        base_row = df_ml.sample(1).iloc[0]\n",
    "        row = {}\n",
    "        for col in df_ml.columns:\n",
    "            if col in num_cols:\n",
    "                row[col] = np.random.normal(loc=base_row[col], scale=scale*df_ml[col].std())\n",
    "            else:\n",
    "                row[col] = np.random.choice(df_ml[col])\n",
    "        synthetic_rows.append(row)\n",
    "    \n",
    "    df_synthetic = pd.DataFrame(synthetic_rows)\n",
    "    print(\"Synthetic data shape:\", df_synthetic.shape)\n",
    "    \n",
    "    df_augmented = pd.concat([df_ml, df_synthetic], ignore_index=True)\n",
    "    print(\"Augmented ML data shape:\", df_augmented.shape)\n",
    "    return df_augmented\n"
   ]
  },
  {
   "cell_type": "code",
   "execution_count": 3,
   "id": "bb585669",
   "metadata": {},
   "outputs": [],
   "source": [
    "base_folder = \"data\""
   ]
  },
  {
   "cell_type": "code",
   "execution_count": null,
   "id": "83d4cf8a",
   "metadata": {},
   "outputs": [
    {
     "name": "stdout",
     "output_type": "stream",
     "text": [
      "Synthetic data shape: (600, 13)\n",
      "Augmented ML data shape: (700, 13)\n",
      "Saved synthetic data: data\\approach_1\\knn_imputation_synthetic.csv\n",
      "Synthetic data shape: (600, 13)\n",
      "Augmented ML data shape: (700, 13)\n",
      "Saved synthetic data: data\\approach_1\\regression_imputation_synthetic.csv\n",
      "Synthetic data shape: (600, 25)\n",
      "Augmented ML data shape: (700, 25)\n",
      "Saved synthetic data: data\\approach_2\\knn_imputation_synthetic.csv\n",
      "Synthetic data shape: (600, 25)\n",
      "Augmented ML data shape: (700, 25)\n",
      "Saved synthetic data: data\\approach_2\\regression_imputation_synthetic.csv\n"
     ]
    }
   ],
   "source": [
    "for approach in os.listdir(base_folder):\n",
    "    approach_path = os.path.join(base_folder, approach)\n",
    "    if not os.path.isdir(approach_path):\n",
    "        continue\n",
    "    \n",
    "    for file_name in os.listdir(approach_path):\n",
    "        if not file_name.endswith(\".csv\"):\n",
    "            continue\n",
    "        if file_name.endswith(\"_synthetic.csv\"):\n",
    "            continue\n",
    "        \n",
    "        file_path = os.path.join(approach_path, file_name)\n",
    "        \n",
    "        df = pd.read_csv(file_path)\n",
    "        \n",
    "        df_augmented = data_generation(df, n_synthetic=600, scale=0.1)\n",
    "        \n",
    "        synth_file_path = os.path.join(\n",
    "            approach_path, file_name.replace(\".csv\", \"_synthetic.csv\")\n",
    "        )\n",
    "        \n",
    "        df_augmented.to_csv(synth_file_path, index=False)\n",
    "        print(f\"Saved synthetic data: {synth_file_path}\")\n"
   ]
  }
 ],
 "metadata": {
  "kernelspec": {
   "display_name": "Python 3",
   "language": "python",
   "name": "python3"
  },
  "language_info": {
   "codemirror_mode": {
    "name": "ipython",
    "version": 3
   },
   "file_extension": ".py",
   "mimetype": "text/x-python",
   "name": "python",
   "nbconvert_exporter": "python",
   "pygments_lexer": "ipython3",
   "version": "3.10.11"
  }
 },
 "nbformat": 4,
 "nbformat_minor": 5
}
