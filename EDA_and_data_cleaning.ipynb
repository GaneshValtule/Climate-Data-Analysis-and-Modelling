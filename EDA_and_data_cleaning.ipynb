{
 "cells": [
  {
   "cell_type": "code",
   "execution_count": null,
   "id": "09162f11",
   "metadata": {},
   "outputs": [],
   "source": [
    "import os\n",
    "import pandas as pd\n",
    "import seaborn as sns\n",
    "import matplotlib.pyplot as plt\n",
    "from sklearn.impute import KNNImputer\n",
    "from sklearn.linear_model import LinearRegression"
   ]
  },
  {
   "cell_type": "code",
   "execution_count": 2,
   "id": "0ccb9b0f",
   "metadata": {},
   "outputs": [],
   "source": [
    "df = pd.read_excel('Assignment1_Climate_Crop_Data.xlsx')"
   ]
  },
  {
   "cell_type": "code",
   "execution_count": 3,
   "id": "d9beaf09",
   "metadata": {},
   "outputs": [
    {
     "data": {
      "text/html": [
       "<div>\n",
       "<style scoped>\n",
       "    .dataframe tbody tr th:only-of-type {\n",
       "        vertical-align: middle;\n",
       "    }\n",
       "\n",
       "    .dataframe tbody tr th {\n",
       "        vertical-align: top;\n",
       "    }\n",
       "\n",
       "    .dataframe thead th {\n",
       "        text-align: right;\n",
       "    }\n",
       "</style>\n",
       "<table border=\"1\" class=\"dataframe\">\n",
       "  <thead>\n",
       "    <tr style=\"text-align: right;\">\n",
       "      <th></th>\n",
       "      <th>District</th>\n",
       "      <th>Year</th>\n",
       "      <th>Month</th>\n",
       "      <th>Avg_Temperature_C</th>\n",
       "      <th>Rainfall_mm</th>\n",
       "      <th>Crop_Yield_t_per_ha</th>\n",
       "    </tr>\n",
       "  </thead>\n",
       "  <tbody>\n",
       "    <tr>\n",
       "      <th>0</th>\n",
       "      <td>Pune</td>\n",
       "      <td>2019</td>\n",
       "      <td>Jan</td>\n",
       "      <td>18.99</td>\n",
       "      <td>18.62</td>\n",
       "      <td>NaN</td>\n",
       "    </tr>\n",
       "    <tr>\n",
       "      <th>1</th>\n",
       "      <td>Pune</td>\n",
       "      <td>2019</td>\n",
       "      <td>Feb</td>\n",
       "      <td>19.30</td>\n",
       "      <td>35.23</td>\n",
       "      <td>NaN</td>\n",
       "    </tr>\n",
       "    <tr>\n",
       "      <th>2</th>\n",
       "      <td>Pune</td>\n",
       "      <td>2019</td>\n",
       "      <td>Mar</td>\n",
       "      <td>31.30</td>\n",
       "      <td>17.66</td>\n",
       "      <td>NaN</td>\n",
       "    </tr>\n",
       "    <tr>\n",
       "      <th>3</th>\n",
       "      <td>Pune</td>\n",
       "      <td>2019</td>\n",
       "      <td>Apr</td>\n",
       "      <td>36.74</td>\n",
       "      <td>27.67</td>\n",
       "      <td>NaN</td>\n",
       "    </tr>\n",
       "    <tr>\n",
       "      <th>4</th>\n",
       "      <td>Pune</td>\n",
       "      <td>2019</td>\n",
       "      <td>May</td>\n",
       "      <td>30.59</td>\n",
       "      <td>25.43</td>\n",
       "      <td>NaN</td>\n",
       "    </tr>\n",
       "    <tr>\n",
       "      <th>...</th>\n",
       "      <td>...</td>\n",
       "      <td>...</td>\n",
       "      <td>...</td>\n",
       "      <td>...</td>\n",
       "      <td>...</td>\n",
       "      <td>...</td>\n",
       "    </tr>\n",
       "    <tr>\n",
       "      <th>1195</th>\n",
       "      <td>Dehradun</td>\n",
       "      <td>2023</td>\n",
       "      <td>Aug</td>\n",
       "      <td>28.59</td>\n",
       "      <td>268.28</td>\n",
       "      <td>NaN</td>\n",
       "    </tr>\n",
       "    <tr>\n",
       "      <th>1196</th>\n",
       "      <td>Dehradun</td>\n",
       "      <td>2023</td>\n",
       "      <td>Sep</td>\n",
       "      <td>26.43</td>\n",
       "      <td>245.47</td>\n",
       "      <td>NaN</td>\n",
       "    </tr>\n",
       "    <tr>\n",
       "      <th>1197</th>\n",
       "      <td>Dehradun</td>\n",
       "      <td>2023</td>\n",
       "      <td>Oct</td>\n",
       "      <td>22.17</td>\n",
       "      <td>75.05</td>\n",
       "      <td>NaN</td>\n",
       "    </tr>\n",
       "    <tr>\n",
       "      <th>1198</th>\n",
       "      <td>Dehradun</td>\n",
       "      <td>2023</td>\n",
       "      <td>Nov</td>\n",
       "      <td>23.87</td>\n",
       "      <td>78.53</td>\n",
       "      <td>NaN</td>\n",
       "    </tr>\n",
       "    <tr>\n",
       "      <th>1199</th>\n",
       "      <td>Dehradun</td>\n",
       "      <td>2023</td>\n",
       "      <td>Dec</td>\n",
       "      <td>19.36</td>\n",
       "      <td>34.87</td>\n",
       "      <td>NaN</td>\n",
       "    </tr>\n",
       "  </tbody>\n",
       "</table>\n",
       "<p>1200 rows × 6 columns</p>\n",
       "</div>"
      ],
      "text/plain": [
       "      District  Year Month  Avg_Temperature_C  Rainfall_mm  \\\n",
       "0         Pune  2019   Jan              18.99        18.62   \n",
       "1         Pune  2019   Feb              19.30        35.23   \n",
       "2         Pune  2019   Mar              31.30        17.66   \n",
       "3         Pune  2019   Apr              36.74        27.67   \n",
       "4         Pune  2019   May              30.59        25.43   \n",
       "...        ...   ...   ...                ...          ...   \n",
       "1195  Dehradun  2023   Aug              28.59       268.28   \n",
       "1196  Dehradun  2023   Sep              26.43       245.47   \n",
       "1197  Dehradun  2023   Oct              22.17        75.05   \n",
       "1198  Dehradun  2023   Nov              23.87        78.53   \n",
       "1199  Dehradun  2023   Dec              19.36        34.87   \n",
       "\n",
       "      Crop_Yield_t_per_ha  \n",
       "0                     NaN  \n",
       "1                     NaN  \n",
       "2                     NaN  \n",
       "3                     NaN  \n",
       "4                     NaN  \n",
       "...                   ...  \n",
       "1195                  NaN  \n",
       "1196                  NaN  \n",
       "1197                  NaN  \n",
       "1198                  NaN  \n",
       "1199                  NaN  \n",
       "\n",
       "[1200 rows x 6 columns]"
      ]
     },
     "execution_count": 3,
     "metadata": {},
     "output_type": "execute_result"
    }
   ],
   "source": [
    "df"
   ]
  },
  {
   "cell_type": "markdown",
   "id": "d84c2963",
   "metadata": {},
   "source": [
    "The data types of columns are consistent with the values presesnt in the dataframe. So, there is no need to change the data types"
   ]
  },
  {
   "cell_type": "code",
   "execution_count": 4,
   "id": "f5dbd86b",
   "metadata": {},
   "outputs": [
    {
     "name": "stdout",
     "output_type": "stream",
     "text": [
      "<class 'pandas.core.frame.DataFrame'>\n",
      "RangeIndex: 1200 entries, 0 to 1199\n",
      "Data columns (total 6 columns):\n",
      " #   Column               Non-Null Count  Dtype  \n",
      "---  ------               --------------  -----  \n",
      " 0   District             1200 non-null   object \n",
      " 1   Year                 1200 non-null   int64  \n",
      " 2   Month                1200 non-null   object \n",
      " 3   Avg_Temperature_C    1200 non-null   float64\n",
      " 4   Rainfall_mm          1200 non-null   float64\n",
      " 5   Crop_Yield_t_per_ha  40 non-null     float64\n",
      "dtypes: float64(3), int64(1), object(2)\n",
      "memory usage: 56.4+ KB\n"
     ]
    }
   ],
   "source": [
    "df.info()"
   ]
  },
  {
   "cell_type": "markdown",
   "id": "6aea4592",
   "metadata": {},
   "source": [
    "From below analysis we can see that the there are only 40 non null values in crop yeild column (out of 1200 data points)."
   ]
  },
  {
   "cell_type": "code",
   "execution_count": 5,
   "id": "012b6fb1",
   "metadata": {},
   "outputs": [
    {
     "data": {
      "text/html": [
       "<div>\n",
       "<style scoped>\n",
       "    .dataframe tbody tr th:only-of-type {\n",
       "        vertical-align: middle;\n",
       "    }\n",
       "\n",
       "    .dataframe tbody tr th {\n",
       "        vertical-align: top;\n",
       "    }\n",
       "\n",
       "    .dataframe thead th {\n",
       "        text-align: right;\n",
       "    }\n",
       "</style>\n",
       "<table border=\"1\" class=\"dataframe\">\n",
       "  <thead>\n",
       "    <tr style=\"text-align: right;\">\n",
       "      <th></th>\n",
       "      <th>Year</th>\n",
       "      <th>Avg_Temperature_C</th>\n",
       "      <th>Rainfall_mm</th>\n",
       "      <th>Crop_Yield_t_per_ha</th>\n",
       "    </tr>\n",
       "  </thead>\n",
       "  <tbody>\n",
       "    <tr>\n",
       "      <th>count</th>\n",
       "      <td>1200.000000</td>\n",
       "      <td>1200.000000</td>\n",
       "      <td>1200.000000</td>\n",
       "      <td>40.000000</td>\n",
       "    </tr>\n",
       "    <tr>\n",
       "      <th>mean</th>\n",
       "      <td>2021.000000</td>\n",
       "      <td>25.837375</td>\n",
       "      <td>119.980383</td>\n",
       "      <td>3.386500</td>\n",
       "    </tr>\n",
       "    <tr>\n",
       "      <th>std</th>\n",
       "      <td>1.414803</td>\n",
       "      <td>5.612888</td>\n",
       "      <td>120.857513</td>\n",
       "      <td>0.636036</td>\n",
       "    </tr>\n",
       "    <tr>\n",
       "      <th>min</th>\n",
       "      <td>2019.000000</td>\n",
       "      <td>11.520000</td>\n",
       "      <td>-9.400000</td>\n",
       "      <td>2.510000</td>\n",
       "    </tr>\n",
       "    <tr>\n",
       "      <th>25%</th>\n",
       "      <td>2020.000000</td>\n",
       "      <td>21.095000</td>\n",
       "      <td>20.927500</td>\n",
       "      <td>2.810000</td>\n",
       "    </tr>\n",
       "    <tr>\n",
       "      <th>50%</th>\n",
       "      <td>2021.000000</td>\n",
       "      <td>26.625000</td>\n",
       "      <td>42.315000</td>\n",
       "      <td>3.205000</td>\n",
       "    </tr>\n",
       "    <tr>\n",
       "      <th>75%</th>\n",
       "      <td>2022.000000</td>\n",
       "      <td>29.842500</td>\n",
       "      <td>247.362500</td>\n",
       "      <td>4.060000</td>\n",
       "    </tr>\n",
       "    <tr>\n",
       "      <th>max</th>\n",
       "      <td>2023.000000</td>\n",
       "      <td>40.200000</td>\n",
       "      <td>403.160000</td>\n",
       "      <td>4.480000</td>\n",
       "    </tr>\n",
       "  </tbody>\n",
       "</table>\n",
       "</div>"
      ],
      "text/plain": [
       "              Year  Avg_Temperature_C  Rainfall_mm  Crop_Yield_t_per_ha\n",
       "count  1200.000000        1200.000000  1200.000000            40.000000\n",
       "mean   2021.000000          25.837375   119.980383             3.386500\n",
       "std       1.414803           5.612888   120.857513             0.636036\n",
       "min    2019.000000          11.520000    -9.400000             2.510000\n",
       "25%    2020.000000          21.095000    20.927500             2.810000\n",
       "50%    2021.000000          26.625000    42.315000             3.205000\n",
       "75%    2022.000000          29.842500   247.362500             4.060000\n",
       "max    2023.000000          40.200000   403.160000             4.480000"
      ]
     },
     "execution_count": 5,
     "metadata": {},
     "output_type": "execute_result"
    }
   ],
   "source": [
    "df.describe()"
   ]
  },
  {
   "cell_type": "code",
   "execution_count": 6,
   "id": "e74881e0",
   "metadata": {},
   "outputs": [],
   "source": [
    "month_order = ['Jan', 'Feb', 'Mar', 'Apr', 'May', 'Jun', \n",
    "               'Jul', 'Aug', 'Sep', 'Oct', 'Nov', 'Dec']"
   ]
  },
  {
   "cell_type": "code",
   "execution_count": null,
   "id": "ef439e1a",
   "metadata": {},
   "outputs": [
    {
     "name": "stderr",
     "output_type": "stream",
     "text": [
      "C:\\Users\\Ganesh Valtule\\AppData\\Local\\Temp\\ipykernel_30824\\2097250653.py:3: FutureWarning: The default of observed=False is deprecated and will be changed to True in a future version of pandas. Pass observed=False to retain current behavior or observed=True to adopt the future default and silence this warning.\n",
      "  df_avg = df.groupby('Month')['Avg_Temperature_C'].mean().reset_index()\n"
     ]
    },
    {
     "data": {
      "image/png": "[encoded data removed]",
      "text/plain": [
       "<Figure size 1200x600 with 1 Axes>"
      ]
     },
     "metadata": {},
     "output_type": "display_data"
    }
   ],
   "source": [
    "df['Month'] = pd.Categorical(df['Month'], categories=month_order, ordered=True)\n",
    "\n",
    "df_avg = df.groupby('Month')['Avg_Temperature_C'].mean().reset_index()\n",
    "\n",
    "plt.figure(figsize=(12,6))\n",
    "sns.barplot(data=df_avg, x='Month', y='Avg_Temperature_C')\n",
    "plt.title(\"Monthly Average Temperature Across All Districts\")\n",
    "plt.ylabel(\"Avg Temperature (°C)\")\n",
    "plt.show()"
   ]
  },
  {
   "cell_type": "code",
   "execution_count": 8,
   "id": "28d018ed",
   "metadata": {},
   "outputs": [
    {
     "data": {
      "image/png": "[encoded data removed]",
      "text/plain": [
       "<Figure size 1100x700 with 1 Axes>"
      ]
     },
     "metadata": {},
     "output_type": "display_data"
    }
   ],
   "source": [
    "\n",
    "df['Year'] = pd.Categorical(df['Year'], ordered=True, categories=sorted(df['Year'].unique()))\n",
    "\n",
    "plt.figure(figsize=(11,7))\n",
    "sns.scatterplot(data=df, x='Year', y='Crop_Yield_t_per_ha', hue='District')\n",
    "plt.title(\"Crop Yield Distribution per Year and District\")\n",
    "\n",
    "plt.xticks(ticks=[2019,2020,2021,2022,2023], rotation=45)\n",
    "\n",
    "plt.ylabel(\"Crop Yield (t/ha)\")\n",
    "plt.xlabel(\"Year\")\n",
    "plt.legend(title='District', bbox_to_anchor=(1.02, 1), loc='best')\n",
    "plt.tight_layout()\n",
    "plt.show()\n"
   ]
  },
  {
   "cell_type": "markdown",
   "id": "d4b7f8ae",
   "metadata": {},
   "source": [
    "From above figure we can see that, the crop values are only available for 2021 and 2023 ranging from approximately 2.5 to 4.5"
   ]
  },
  {
   "cell_type": "code",
   "execution_count": 9,
   "id": "57bc9c6f",
   "metadata": {},
   "outputs": [
    {
     "data": {
      "text/plain": [
       "<Axes: xlabel='Crop_Yield_t_per_ha', ylabel='Count'>"
      ]
     },
     "execution_count": 9,
     "metadata": {},
     "output_type": "execute_result"
    },
    {
     "data": {
      "image/png": "[encoded data removed]",
      "text/plain": [
       "<Figure size 640x480 with 1 Axes>"
      ]
     },
     "metadata": {},
     "output_type": "display_data"
    }
   ],
   "source": [
    "sns.histplot(df['Crop_Yield_t_per_ha'])"
   ]
  },
  {
   "cell_type": "markdown",
   "id": "4524a45f",
   "metadata": {},
   "source": [
    "This is the distribution of Crop_Yield_t_per_ha values"
   ]
  },
  {
   "cell_type": "code",
   "execution_count": 10,
   "id": "6f441523",
   "metadata": {},
   "outputs": [
    {
     "data": {
      "text/plain": [
       "<Axes: >"
      ]
     },
     "execution_count": 10,
     "metadata": {},
     "output_type": "execute_result"
    },
    {
     "data": {
      "image/png": "[encoded data removed]",
      "text/plain": [
       "<Figure size 640x480 with 2 Axes>"
      ]
     },
     "metadata": {},
     "output_type": "display_data"
    }
   ],
   "source": [
    "sns.heatmap(df.corr(numeric_only=True))"
   ]
  },
  {
   "cell_type": "markdown",
   "id": "77a9c9ef",
   "metadata": {},
   "source": [
    "Data is for 20 different districts"
   ]
  },
  {
   "cell_type": "code",
   "execution_count": 11,
   "id": "e98f0e02",
   "metadata": {},
   "outputs": [
    {
     "data": {
      "text/plain": [
       "20"
      ]
     },
     "execution_count": 11,
     "metadata": {},
     "output_type": "execute_result"
    }
   ],
   "source": [
    "len(df['District'].unique())"
   ]
  },
  {
   "cell_type": "markdown",
   "id": "c0c58cf9",
   "metadata": {},
   "source": [
    "Considering the wheat crop yield for analysis\n"
   ]
  },
  {
   "cell_type": "markdown",
   "id": "7102172d",
   "metadata": {},
   "source": [
    "# Approach 1\n",
    "\n",
    "- In india the wheat crop season is around the winter and start of summer\n",
    "- sowing in Nov-dec-jan and harvesting in feb-mar\n",
    "- So the taking the months Nov, Dec, Jan, Feb and Mar for analysis."
   ]
  },
  {
   "cell_type": "code",
   "execution_count": 12,
   "id": "fc8c6588",
   "metadata": {},
   "outputs": [],
   "source": [
    "filtered_df_1 = df[df['Month'].isin(['Nov','Dec','Jan','Feb','Mar'])]"
   ]
  },
  {
   "cell_type": "markdown",
   "id": "fa21d425",
   "metadata": {},
   "source": [
    "- I will create a ‘season year’ column that groups November and December of the previous year together with January, February, and March of the current year. \n",
    "- For example, the 2020 wheat season will include November and December 2019, along with January to March 2020."
   ]
  },
  {
   "cell_type": "code",
   "execution_count": 13,
   "id": "b695f60d",
   "metadata": {},
   "outputs": [],
   "source": [
    "def assign_season_year(row):\n",
    "    try:\n",
    "        if row['Month'] == 'Dec':\n",
    "            return int(row['Year'] + 1)\n",
    "        else:\n",
    "            return int(row['Year'])\n",
    "    except Exception:\n",
    "        return None "
   ]
  },
  {
   "cell_type": "code",
   "execution_count": null,
   "id": "1f99bc79",
   "metadata": {},
   "outputs": [],
   "source": [
    "filtered_df_1 = filtered_df_1.copy()\n",
    "filtered_df_1['season_year'] = filtered_df_1.apply(assign_season_year, axis=1)"
   ]
  },
  {
   "cell_type": "code",
   "execution_count": 15,
   "id": "e77018fe",
   "metadata": {},
   "outputs": [],
   "source": [
    "filtered_df_1 = filtered_df_1[filtered_df_1['season_year'].isin(df['Year'].unique())]"
   ]
  },
  {
   "cell_type": "markdown",
   "id": "c771ca0b",
   "metadata": {},
   "source": [
    "- Next, we will check which values in the dataframe are not null. \n",
    "- From the analysis, we can conclude that crop yield is reported in March for the years 2021 and 2023 across all districts in the dataset. \n",
    "- Since yield is an annual value and not month-specific, we will assign the same yield value to each month within the corresponding season year."
   ]
  },
  {
   "cell_type": "code",
   "execution_count": 16,
   "id": "b89039f4",
   "metadata": {},
   "outputs": [
    {
     "data": {
      "text/plain": [
       "40"
      ]
     },
     "execution_count": 16,
     "metadata": {},
     "output_type": "execute_result"
    }
   ],
   "source": [
    "len(filtered_df_1[filtered_df_1['Crop_Yield_t_per_ha'].notna()])"
   ]
  },
  {
   "cell_type": "code",
   "execution_count": 17,
   "id": "849567ee",
   "metadata": {},
   "outputs": [
    {
     "name": "stderr",
     "output_type": "stream",
     "text": [
      "C:\\Users\\Ganesh Valtule\\AppData\\Local\\Temp\\ipykernel_30824\\2071799561.py:7: DeprecationWarning: DataFrameGroupBy.apply operated on the grouping columns. This behavior is deprecated, and in a future version of pandas the grouping columns will be excluded from the operation. Either pass `include_groups=False` to exclude the groupings or explicitly select the grouping columns after groupby to silence this warning.\n",
      "  filtered_df_1 = filtered_df_1.groupby([\"District\", \"season_year\"], group_keys=False).apply(fill_annual_yield_1).reset_index(drop=True)\n"
     ]
    }
   ],
   "source": [
    "def fill_annual_yield_1(group):\n",
    "    march_value = group.loc[group[\"Month\"] == \"Mar\", \"Crop_Yield_t_per_ha\"]\n",
    "    if not march_value.empty:\n",
    "        group[\"Crop_Yield_t_per_ha\"] = march_value.values[0]\n",
    "    return group  \n",
    "\n",
    "filtered_df_1 = filtered_df_1.groupby([\"District\", \"season_year\"], group_keys=False).apply(fill_annual_yield_1).reset_index(drop=True)"
   ]
  },
  {
   "cell_type": "code",
   "execution_count": 18,
   "id": "40b0402c",
   "metadata": {},
   "outputs": [
    {
     "name": "stderr",
     "output_type": "stream",
     "text": [
      "C:\\Users\\Ganesh Valtule\\AppData\\Local\\Temp\\ipykernel_30824\\2484968021.py:1: FutureWarning: The default value of observed=False is deprecated and will change to observed=True in a future version of pandas. Specify observed=False to silence this warning and retain the current behavior\n",
      "  pivot_df_1 = filtered_df_1.pivot_table(index=[\"District\", \"season_year\"],columns=\"Month\",values=[\"Avg_Temperature_C\", \"Rainfall_mm\"],aggfunc=\"mean\").reset_index()\n"
     ]
    }
   ],
   "source": [
    "pivot_df_1 = filtered_df_1.pivot_table(index=[\"District\", \"season_year\"],columns=\"Month\",values=[\"Avg_Temperature_C\", \"Rainfall_mm\"],aggfunc=\"mean\").reset_index() \n",
    "\n",
    "pivot_df_1.columns = ['_'.join(col).strip() if isinstance(col, tuple) and col[1] != '' else col[0] for col in pivot_df_1.columns.values]"
   ]
  },
  {
   "cell_type": "code",
   "execution_count": 19,
   "id": "e0ac3fbf",
   "metadata": {},
   "outputs": [],
   "source": [
    "num_cols = pivot_df_1.select_dtypes(include='number').columns.drop(\"season_year\", errors=\"ignore\")\n",
    "pivot_df_1[num_cols] = pivot_df_1.groupby(\"District\")[num_cols].transform(lambda x: x.fillna(x.mean()))\n"
   ]
  },
  {
   "cell_type": "code",
   "execution_count": 20,
   "id": "70bca69f",
   "metadata": {},
   "outputs": [],
   "source": [
    "yield_df_1 = filtered_df_1.groupby([\"District\", \"season_year\"], as_index=False)[\"Crop_Yield_t_per_ha\"].first()\n",
    "pivot_df_1 = pivot_df_1.merge(yield_df_1, on=[\"District\", \"season_year\"], how=\"left\")"
   ]
  },
  {
   "cell_type": "code",
   "execution_count": 21,
   "id": "26352611",
   "metadata": {},
   "outputs": [],
   "source": [
    "temp_cols_1 = [\"Avg_Temperature_C_Nov\", \"Avg_Temperature_C_Dec\", \"Avg_Temperature_C_Jan\", \"Avg_Temperature_C_Feb\", \"Avg_Temperature_C_Mar\"]\n",
    "rain_cols_1 = [\"Rainfall_mm_Nov\", \"Rainfall_mm_Dec\", \"Rainfall_mm_Jan\", \"Rainfall_mm_Feb\", \"Rainfall_mm_Mar\"]\n",
    "\n",
    "pivot_df_1[\"Seasonal_Avg_Temp_Nov_Mar\"] = pivot_df_1[temp_cols_1].mean(axis=1)\n",
    "pivot_df_1[\"Seasonal_Avg_Rain_Nov_Mar\"] = pivot_df_1[rain_cols_1].mean(axis=1)"
   ]
  },
  {
   "cell_type": "code",
   "execution_count": 22,
   "id": "cce90bd2",
   "metadata": {},
   "outputs": [
    {
     "data": {
      "text/plain": [
       "Text(0.5, 1.0, 'Correlation matrix')"
      ]
     },
     "execution_count": 22,
     "metadata": {},
     "output_type": "execute_result"
    },
    {
     "data": {
      "image/png": "[encoded data removed]",
      "text/plain": [
       "<Figure size 640x480 with 2 Axes>"
      ]
     },
     "metadata": {},
     "output_type": "display_data"
    }
   ],
   "source": [
    "sns.heatmap(pivot_df_1.corr(numeric_only=True))\n",
    "plt.title('Correlation matrix')"
   ]
  },
  {
   "cell_type": "code",
   "execution_count": 23,
   "id": "483e9efc",
   "metadata": {},
   "outputs": [
    {
     "data": {
      "text/html": [
       "<div>\n",
       "<style scoped>\n",
       "    .dataframe tbody tr th:only-of-type {\n",
       "        vertical-align: middle;\n",
       "    }\n",
       "\n",
       "    .dataframe tbody tr th {\n",
       "        vertical-align: top;\n",
       "    }\n",
       "\n",
       "    .dataframe thead th {\n",
       "        text-align: right;\n",
       "    }\n",
       "</style>\n",
       "<table border=\"1\" class=\"dataframe\">\n",
       "  <thead>\n",
       "    <tr style=\"text-align: right;\">\n",
       "      <th></th>\n",
       "      <th>District</th>\n",
       "      <th>season_year</th>\n",
       "      <th>Avg_Temperature_C_Jan</th>\n",
       "      <th>Avg_Temperature_C_Feb</th>\n",
       "      <th>Avg_Temperature_C_Mar</th>\n",
       "      <th>Avg_Temperature_C_Nov</th>\n",
       "      <th>Avg_Temperature_C_Dec</th>\n",
       "      <th>Rainfall_mm_Jan</th>\n",
       "      <th>Rainfall_mm_Feb</th>\n",
       "      <th>Rainfall_mm_Mar</th>\n",
       "      <th>Rainfall_mm_Nov</th>\n",
       "      <th>Rainfall_mm_Dec</th>\n",
       "      <th>Crop_Yield_t_per_ha</th>\n",
       "      <th>Seasonal_Avg_Temp_Nov_Mar</th>\n",
       "      <th>Seasonal_Avg_Rain_Nov_Mar</th>\n",
       "    </tr>\n",
       "  </thead>\n",
       "  <tbody>\n",
       "    <tr>\n",
       "      <th>0</th>\n",
       "      <td>Ahmedabad</td>\n",
       "      <td>2019</td>\n",
       "      <td>15.61</td>\n",
       "      <td>20.39</td>\n",
       "      <td>31.60</td>\n",
       "      <td>20.95</td>\n",
       "      <td>17.325</td>\n",
       "      <td>24.45</td>\n",
       "      <td>13.90</td>\n",
       "      <td>20.15</td>\n",
       "      <td>137.88</td>\n",
       "      <td>29.530</td>\n",
       "      <td>NaN</td>\n",
       "      <td>21.175</td>\n",
       "      <td>45.182</td>\n",
       "    </tr>\n",
       "    <tr>\n",
       "      <th>1</th>\n",
       "      <td>Ahmedabad</td>\n",
       "      <td>2020</td>\n",
       "      <td>16.87</td>\n",
       "      <td>21.08</td>\n",
       "      <td>38.18</td>\n",
       "      <td>22.57</td>\n",
       "      <td>16.900</td>\n",
       "      <td>21.85</td>\n",
       "      <td>40.06</td>\n",
       "      <td>32.08</td>\n",
       "      <td>44.00</td>\n",
       "      <td>45.580</td>\n",
       "      <td>NaN</td>\n",
       "      <td>23.120</td>\n",
       "      <td>36.714</td>\n",
       "    </tr>\n",
       "    <tr>\n",
       "      <th>2</th>\n",
       "      <td>Ahmedabad</td>\n",
       "      <td>2021</td>\n",
       "      <td>21.03</td>\n",
       "      <td>15.95</td>\n",
       "      <td>35.66</td>\n",
       "      <td>23.26</td>\n",
       "      <td>17.830</td>\n",
       "      <td>26.31</td>\n",
       "      <td>38.54</td>\n",
       "      <td>25.82</td>\n",
       "      <td>112.05</td>\n",
       "      <td>18.780</td>\n",
       "      <td>2.74</td>\n",
       "      <td>22.746</td>\n",
       "      <td>44.300</td>\n",
       "    </tr>\n",
       "    <tr>\n",
       "      <th>3</th>\n",
       "      <td>Ahmedabad</td>\n",
       "      <td>2022</td>\n",
       "      <td>15.78</td>\n",
       "      <td>18.41</td>\n",
       "      <td>23.39</td>\n",
       "      <td>23.39</td>\n",
       "      <td>17.620</td>\n",
       "      <td>19.48</td>\n",
       "      <td>16.22</td>\n",
       "      <td>18.39</td>\n",
       "      <td>147.04</td>\n",
       "      <td>33.900</td>\n",
       "      <td>NaN</td>\n",
       "      <td>19.718</td>\n",
       "      <td>47.006</td>\n",
       "    </tr>\n",
       "    <tr>\n",
       "      <th>4</th>\n",
       "      <td>Ahmedabad</td>\n",
       "      <td>2023</td>\n",
       "      <td>18.20</td>\n",
       "      <td>14.47</td>\n",
       "      <td>32.74</td>\n",
       "      <td>21.97</td>\n",
       "      <td>16.950</td>\n",
       "      <td>8.69</td>\n",
       "      <td>9.73</td>\n",
       "      <td>20.87</td>\n",
       "      <td>101.85</td>\n",
       "      <td>19.860</td>\n",
       "      <td>3.62</td>\n",
       "      <td>20.866</td>\n",
       "      <td>32.200</td>\n",
       "    </tr>\n",
       "    <tr>\n",
       "      <th>...</th>\n",
       "      <td>...</td>\n",
       "      <td>...</td>\n",
       "      <td>...</td>\n",
       "      <td>...</td>\n",
       "      <td>...</td>\n",
       "      <td>...</td>\n",
       "      <td>...</td>\n",
       "      <td>...</td>\n",
       "      <td>...</td>\n",
       "      <td>...</td>\n",
       "      <td>...</td>\n",
       "      <td>...</td>\n",
       "      <td>...</td>\n",
       "      <td>...</td>\n",
       "      <td>...</td>\n",
       "    </tr>\n",
       "    <tr>\n",
       "      <th>95</th>\n",
       "      <td>Trivandrum</td>\n",
       "      <td>2019</td>\n",
       "      <td>17.09</td>\n",
       "      <td>18.65</td>\n",
       "      <td>33.87</td>\n",
       "      <td>23.34</td>\n",
       "      <td>16.955</td>\n",
       "      <td>34.52</td>\n",
       "      <td>23.00</td>\n",
       "      <td>8.61</td>\n",
       "      <td>118.10</td>\n",
       "      <td>17.225</td>\n",
       "      <td>NaN</td>\n",
       "      <td>21.981</td>\n",
       "      <td>40.291</td>\n",
       "    </tr>\n",
       "    <tr>\n",
       "      <th>96</th>\n",
       "      <td>Trivandrum</td>\n",
       "      <td>2020</td>\n",
       "      <td>18.08</td>\n",
       "      <td>19.48</td>\n",
       "      <td>31.31</td>\n",
       "      <td>25.35</td>\n",
       "      <td>16.910</td>\n",
       "      <td>9.98</td>\n",
       "      <td>14.87</td>\n",
       "      <td>10.06</td>\n",
       "      <td>117.75</td>\n",
       "      <td>18.370</td>\n",
       "      <td>NaN</td>\n",
       "      <td>22.226</td>\n",
       "      <td>34.206</td>\n",
       "    </tr>\n",
       "    <tr>\n",
       "      <th>97</th>\n",
       "      <td>Trivandrum</td>\n",
       "      <td>2021</td>\n",
       "      <td>18.20</td>\n",
       "      <td>15.52</td>\n",
       "      <td>32.49</td>\n",
       "      <td>23.59</td>\n",
       "      <td>17.290</td>\n",
       "      <td>35.49</td>\n",
       "      <td>5.32</td>\n",
       "      <td>20.51</td>\n",
       "      <td>80.50</td>\n",
       "      <td>14.260</td>\n",
       "      <td>4.19</td>\n",
       "      <td>21.418</td>\n",
       "      <td>31.216</td>\n",
       "    </tr>\n",
       "    <tr>\n",
       "      <th>98</th>\n",
       "      <td>Trivandrum</td>\n",
       "      <td>2022</td>\n",
       "      <td>18.68</td>\n",
       "      <td>18.79</td>\n",
       "      <td>32.98</td>\n",
       "      <td>24.01</td>\n",
       "      <td>16.680</td>\n",
       "      <td>10.06</td>\n",
       "      <td>34.13</td>\n",
       "      <td>16.30</td>\n",
       "      <td>51.21</td>\n",
       "      <td>14.020</td>\n",
       "      <td>NaN</td>\n",
       "      <td>22.228</td>\n",
       "      <td>25.144</td>\n",
       "    </tr>\n",
       "    <tr>\n",
       "      <th>99</th>\n",
       "      <td>Trivandrum</td>\n",
       "      <td>2023</td>\n",
       "      <td>19.68</td>\n",
       "      <td>22.38</td>\n",
       "      <td>30.31</td>\n",
       "      <td>27.61</td>\n",
       "      <td>16.940</td>\n",
       "      <td>13.82</td>\n",
       "      <td>1.06</td>\n",
       "      <td>19.17</td>\n",
       "      <td>94.27</td>\n",
       "      <td>22.250</td>\n",
       "      <td>2.83</td>\n",
       "      <td>23.384</td>\n",
       "      <td>30.114</td>\n",
       "    </tr>\n",
       "  </tbody>\n",
       "</table>\n",
       "<p>100 rows × 15 columns</p>\n",
       "</div>"
      ],
      "text/plain": [
       "      District  season_year  Avg_Temperature_C_Jan  Avg_Temperature_C_Feb  \\\n",
       "0    Ahmedabad         2019                  15.61                  20.39   \n",
       "1    Ahmedabad         2020                  16.87                  21.08   \n",
       "2    Ahmedabad         2021                  21.03                  15.95   \n",
       "3    Ahmedabad         2022                  15.78                  18.41   \n",
       "4    Ahmedabad         2023                  18.20                  14.47   \n",
       "..         ...          ...                    ...                    ...   \n",
       "95  Trivandrum         2019                  17.09                  18.65   \n",
       "96  Trivandrum         2020                  18.08                  19.48   \n",
       "97  Trivandrum         2021                  18.20                  15.52   \n",
       "98  Trivandrum         2022                  18.68                  18.79   \n",
       "99  Trivandrum         2023                  19.68                  22.38   \n",
       "\n",
       "    Avg_Temperature_C_Mar  Avg_Temperature_C_Nov  Avg_Temperature_C_Dec  \\\n",
       "0                   31.60                  20.95                 17.325   \n",
       "1                   38.18                  22.57                 16.900   \n",
       "2                   35.66                  23.26                 17.830   \n",
       "3                   23.39                  23.39                 17.620   \n",
       "4                   32.74                  21.97                 16.950   \n",
       "..                    ...                    ...                    ...   \n",
       "95                  33.87                  23.34                 16.955   \n",
       "96                  31.31                  25.35                 16.910   \n",
       "97                  32.49                  23.59                 17.290   \n",
       "98                  32.98                  24.01                 16.680   \n",
       "99                  30.31                  27.61                 16.940   \n",
       "\n",
       "    Rainfall_mm_Jan  Rainfall_mm_Feb  Rainfall_mm_Mar  Rainfall_mm_Nov  \\\n",
       "0             24.45            13.90            20.15           137.88   \n",
       "1             21.85            40.06            32.08            44.00   \n",
       "2             26.31            38.54            25.82           112.05   \n",
       "3             19.48            16.22            18.39           147.04   \n",
       "4              8.69             9.73            20.87           101.85   \n",
       "..              ...              ...              ...              ...   \n",
       "95            34.52            23.00             8.61           118.10   \n",
       "96             9.98            14.87            10.06           117.75   \n",
       "97            35.49             5.32            20.51            80.50   \n",
       "98            10.06            34.13            16.30            51.21   \n",
       "99            13.82             1.06            19.17            94.27   \n",
       "\n",
       "    Rainfall_mm_Dec  Crop_Yield_t_per_ha  Seasonal_Avg_Temp_Nov_Mar  \\\n",
       "0            29.530                  NaN                     21.175   \n",
       "1            45.580                  NaN                     23.120   \n",
       "2            18.780                 2.74                     22.746   \n",
       "3            33.900                  NaN                     19.718   \n",
       "4            19.860                 3.62                     20.866   \n",
       "..              ...                  ...                        ...   \n",
       "95           17.225                  NaN                     21.981   \n",
       "96           18.370                  NaN                     22.226   \n",
       "97           14.260                 4.19                     21.418   \n",
       "98           14.020                  NaN                     22.228   \n",
       "99           22.250                 2.83                     23.384   \n",
       "\n",
       "    Seasonal_Avg_Rain_Nov_Mar  \n",
       "0                      45.182  \n",
       "1                      36.714  \n",
       "2                      44.300  \n",
       "3                      47.006  \n",
       "4                      32.200  \n",
       "..                        ...  \n",
       "95                     40.291  \n",
       "96                     34.206  \n",
       "97                     31.216  \n",
       "98                     25.144  \n",
       "99                     30.114  \n",
       "\n",
       "[100 rows x 15 columns]"
      ]
     },
     "execution_count": 23,
     "metadata": {},
     "output_type": "execute_result"
    }
   ],
   "source": [
    "pivot_df_1"
   ]
  },
  {
   "cell_type": "markdown",
   "id": "3213e237",
   "metadata": {},
   "source": [
    "# Approach 2 - Considering all the months"
   ]
  },
  {
   "cell_type": "code",
   "execution_count": 24,
   "id": "e720b151",
   "metadata": {},
   "outputs": [],
   "source": [
    "filtered_df_2 = df.copy()"
   ]
  },
  {
   "cell_type": "code",
   "execution_count": 26,
   "id": "bcae0bbd",
   "metadata": {},
   "outputs": [],
   "source": [
    "def fill_annual_yield_2(group):\n",
    "    march_value = group.loc[group['Month'] == 'Mar', 'Crop_Yield_t_per_ha']\n",
    "    if not march_value.empty:\n",
    "        group['Crop_Yield_t_per_ha'] = march_value.values[0]\n",
    "    return group "
   ]
  },
  {
   "cell_type": "code",
   "execution_count": 27,
   "id": "a88ee36c",
   "metadata": {},
   "outputs": [
    {
     "name": "stderr",
     "output_type": "stream",
     "text": [
      "C:\\Users\\Ganesh Valtule\\AppData\\Local\\Temp\\ipykernel_30824\\3724327954.py:1: FutureWarning: The default of observed=False is deprecated and will be changed to True in a future version of pandas. Pass observed=False to retain current behavior or observed=True to adopt the future default and silence this warning.\n",
      "  filtered_df_2 = filtered_df_2.groupby(['District', 'Year'], group_keys=False).apply(fill_annual_yield_2).reset_index(drop=True)\n",
      "C:\\Users\\Ganesh Valtule\\AppData\\Local\\Temp\\ipykernel_30824\\3724327954.py:1: DeprecationWarning: DataFrameGroupBy.apply operated on the grouping columns. This behavior is deprecated, and in a future version of pandas the grouping columns will be excluded from the operation. Either pass `include_groups=False` to exclude the groupings or explicitly select the grouping columns after groupby to silence this warning.\n",
      "  filtered_df_2 = filtered_df_2.groupby(['District', 'Year'], group_keys=False).apply(fill_annual_yield_2).reset_index(drop=True)\n"
     ]
    }
   ],
   "source": [
    "filtered_df_2 = filtered_df_2.groupby(['District', 'Year'], group_keys=False).apply(fill_annual_yield_2).reset_index(drop=True)"
   ]
  },
  {
   "cell_type": "code",
   "execution_count": 28,
   "id": "d477801a",
   "metadata": {},
   "outputs": [
    {
     "name": "stderr",
     "output_type": "stream",
     "text": [
      "C:\\Users\\Ganesh Valtule\\AppData\\Local\\Temp\\ipykernel_30824\\834364546.py:1: FutureWarning: The default value of observed=False is deprecated and will change to observed=True in a future version of pandas. Specify observed=False to silence this warning and retain the current behavior\n",
      "  pivot_df_2 = filtered_df_2.pivot_table(index=['District', 'Year'],columns='Month',values=['Avg_Temperature_C', 'Rainfall_mm'],aggfunc='mean').reset_index()\n"
     ]
    }
   ],
   "source": [
    "pivot_df_2 = filtered_df_2.pivot_table(index=['District', 'Year'],columns='Month',values=['Avg_Temperature_C', 'Rainfall_mm'],aggfunc='mean').reset_index() \n",
    "pivot_df_2.columns = ['_'.join(col).strip() if isinstance(col, tuple) and col[1] != '' else col[0] for col in pivot_df_2.columns.values]"
   ]
  },
  {
   "cell_type": "code",
   "execution_count": 29,
   "id": "72d7e358",
   "metadata": {},
   "outputs": [
    {
     "name": "stderr",
     "output_type": "stream",
     "text": [
      "C:\\Users\\Ganesh Valtule\\AppData\\Local\\Temp\\ipykernel_30824\\4182683627.py:1: FutureWarning: The default of observed=False is deprecated and will be changed to True in a future version of pandas. Pass observed=False to retain current behavior or observed=True to adopt the future default and silence this warning.\n",
      "  yield_df_2 = filtered_df_2.groupby(['District', 'Year'], as_index=False)['Crop_Yield_t_per_ha'].first()\n"
     ]
    }
   ],
   "source": [
    "yield_df_2 = filtered_df_2.groupby(['District', 'Year'], as_index=False)['Crop_Yield_t_per_ha'].first()\n",
    "pivot_df_2 = pivot_df_2.merge(yield_df_2, on=['District', 'Year'], how='left')"
   ]
  },
  {
   "cell_type": "code",
   "execution_count": 30,
   "id": "e4b98a62",
   "metadata": {},
   "outputs": [
    {
     "data": {
      "text/html": [
       "<div>\n",
       "<style scoped>\n",
       "    .dataframe tbody tr th:only-of-type {\n",
       "        vertical-align: middle;\n",
       "    }\n",
       "\n",
       "    .dataframe tbody tr th {\n",
       "        vertical-align: top;\n",
       "    }\n",
       "\n",
       "    .dataframe thead th {\n",
       "        text-align: right;\n",
       "    }\n",
       "</style>\n",
       "<table border=\"1\" class=\"dataframe\">\n",
       "  <thead>\n",
       "    <tr style=\"text-align: right;\">\n",
       "      <th></th>\n",
       "      <th>District</th>\n",
       "      <th>Year</th>\n",
       "      <th>Avg_Temperature_C_Jan</th>\n",
       "      <th>Avg_Temperature_C_Feb</th>\n",
       "      <th>Avg_Temperature_C_Mar</th>\n",
       "      <th>Avg_Temperature_C_Apr</th>\n",
       "      <th>Avg_Temperature_C_May</th>\n",
       "      <th>Avg_Temperature_C_Jun</th>\n",
       "      <th>Avg_Temperature_C_Jul</th>\n",
       "      <th>Avg_Temperature_C_Aug</th>\n",
       "      <th>...</th>\n",
       "      <th>Rainfall_mm_Apr</th>\n",
       "      <th>Rainfall_mm_May</th>\n",
       "      <th>Rainfall_mm_Jun</th>\n",
       "      <th>Rainfall_mm_Jul</th>\n",
       "      <th>Rainfall_mm_Aug</th>\n",
       "      <th>Rainfall_mm_Sep</th>\n",
       "      <th>Rainfall_mm_Oct</th>\n",
       "      <th>Rainfall_mm_Nov</th>\n",
       "      <th>Rainfall_mm_Dec</th>\n",
       "      <th>Crop_Yield_t_per_ha</th>\n",
       "    </tr>\n",
       "  </thead>\n",
       "  <tbody>\n",
       "    <tr>\n",
       "      <th>0</th>\n",
       "      <td>Ahmedabad</td>\n",
       "      <td>2019</td>\n",
       "      <td>15.61</td>\n",
       "      <td>20.39</td>\n",
       "      <td>31.60</td>\n",
       "      <td>29.65</td>\n",
       "      <td>31.64</td>\n",
       "      <td>26.23</td>\n",
       "      <td>29.44</td>\n",
       "      <td>31.45</td>\n",
       "      <td>...</td>\n",
       "      <td>26.48</td>\n",
       "      <td>24.20</td>\n",
       "      <td>258.13</td>\n",
       "      <td>261.36</td>\n",
       "      <td>260.02</td>\n",
       "      <td>326.63</td>\n",
       "      <td>47.18</td>\n",
       "      <td>137.88</td>\n",
       "      <td>45.58</td>\n",
       "      <td>NaN</td>\n",
       "    </tr>\n",
       "    <tr>\n",
       "      <th>1</th>\n",
       "      <td>Ahmedabad</td>\n",
       "      <td>2020</td>\n",
       "      <td>16.87</td>\n",
       "      <td>21.08</td>\n",
       "      <td>38.18</td>\n",
       "      <td>35.07</td>\n",
       "      <td>34.34</td>\n",
       "      <td>26.36</td>\n",
       "      <td>27.66</td>\n",
       "      <td>29.39</td>\n",
       "      <td>...</td>\n",
       "      <td>25.93</td>\n",
       "      <td>14.49</td>\n",
       "      <td>279.83</td>\n",
       "      <td>257.34</td>\n",
       "      <td>327.77</td>\n",
       "      <td>353.88</td>\n",
       "      <td>94.19</td>\n",
       "      <td>44.00</td>\n",
       "      <td>18.78</td>\n",
       "      <td>NaN</td>\n",
       "    </tr>\n",
       "    <tr>\n",
       "      <th>2</th>\n",
       "      <td>Ahmedabad</td>\n",
       "      <td>2021</td>\n",
       "      <td>21.03</td>\n",
       "      <td>15.95</td>\n",
       "      <td>35.66</td>\n",
       "      <td>35.44</td>\n",
       "      <td>35.60</td>\n",
       "      <td>25.49</td>\n",
       "      <td>25.18</td>\n",
       "      <td>26.94</td>\n",
       "      <td>...</td>\n",
       "      <td>16.96</td>\n",
       "      <td>0.63</td>\n",
       "      <td>297.43</td>\n",
       "      <td>221.28</td>\n",
       "      <td>318.57</td>\n",
       "      <td>288.51</td>\n",
       "      <td>94.15</td>\n",
       "      <td>112.05</td>\n",
       "      <td>33.90</td>\n",
       "      <td>2.74</td>\n",
       "    </tr>\n",
       "    <tr>\n",
       "      <th>3</th>\n",
       "      <td>Ahmedabad</td>\n",
       "      <td>2022</td>\n",
       "      <td>15.78</td>\n",
       "      <td>18.41</td>\n",
       "      <td>23.39</td>\n",
       "      <td>34.70</td>\n",
       "      <td>33.06</td>\n",
       "      <td>28.79</td>\n",
       "      <td>28.71</td>\n",
       "      <td>26.05</td>\n",
       "      <td>...</td>\n",
       "      <td>27.78</td>\n",
       "      <td>9.02</td>\n",
       "      <td>251.33</td>\n",
       "      <td>286.08</td>\n",
       "      <td>235.38</td>\n",
       "      <td>268.94</td>\n",
       "      <td>72.32</td>\n",
       "      <td>147.04</td>\n",
       "      <td>19.86</td>\n",
       "      <td>NaN</td>\n",
       "    </tr>\n",
       "    <tr>\n",
       "      <th>4</th>\n",
       "      <td>Ahmedabad</td>\n",
       "      <td>2023</td>\n",
       "      <td>18.20</td>\n",
       "      <td>14.47</td>\n",
       "      <td>32.74</td>\n",
       "      <td>27.31</td>\n",
       "      <td>34.38</td>\n",
       "      <td>28.59</td>\n",
       "      <td>28.93</td>\n",
       "      <td>24.77</td>\n",
       "      <td>...</td>\n",
       "      <td>14.71</td>\n",
       "      <td>7.46</td>\n",
       "      <td>212.17</td>\n",
       "      <td>278.22</td>\n",
       "      <td>338.24</td>\n",
       "      <td>239.49</td>\n",
       "      <td>134.46</td>\n",
       "      <td>101.85</td>\n",
       "      <td>26.93</td>\n",
       "      <td>3.62</td>\n",
       "    </tr>\n",
       "    <tr>\n",
       "      <th>...</th>\n",
       "      <td>...</td>\n",
       "      <td>...</td>\n",
       "      <td>...</td>\n",
       "      <td>...</td>\n",
       "      <td>...</td>\n",
       "      <td>...</td>\n",
       "      <td>...</td>\n",
       "      <td>...</td>\n",
       "      <td>...</td>\n",
       "      <td>...</td>\n",
       "      <td>...</td>\n",
       "      <td>...</td>\n",
       "      <td>...</td>\n",
       "      <td>...</td>\n",
       "      <td>...</td>\n",
       "      <td>...</td>\n",
       "      <td>...</td>\n",
       "      <td>...</td>\n",
       "      <td>...</td>\n",
       "      <td>...</td>\n",
       "      <td>...</td>\n",
       "    </tr>\n",
       "    <tr>\n",
       "      <th>95</th>\n",
       "      <td>Trivandrum</td>\n",
       "      <td>2019</td>\n",
       "      <td>17.09</td>\n",
       "      <td>18.65</td>\n",
       "      <td>33.87</td>\n",
       "      <td>35.12</td>\n",
       "      <td>34.01</td>\n",
       "      <td>24.89</td>\n",
       "      <td>28.75</td>\n",
       "      <td>26.26</td>\n",
       "      <td>...</td>\n",
       "      <td>19.24</td>\n",
       "      <td>9.28</td>\n",
       "      <td>320.89</td>\n",
       "      <td>234.90</td>\n",
       "      <td>336.27</td>\n",
       "      <td>362.13</td>\n",
       "      <td>119.15</td>\n",
       "      <td>118.10</td>\n",
       "      <td>18.37</td>\n",
       "      <td>NaN</td>\n",
       "    </tr>\n",
       "    <tr>\n",
       "      <th>96</th>\n",
       "      <td>Trivandrum</td>\n",
       "      <td>2020</td>\n",
       "      <td>18.08</td>\n",
       "      <td>19.48</td>\n",
       "      <td>31.31</td>\n",
       "      <td>24.31</td>\n",
       "      <td>39.24</td>\n",
       "      <td>27.96</td>\n",
       "      <td>28.04</td>\n",
       "      <td>25.64</td>\n",
       "      <td>...</td>\n",
       "      <td>18.09</td>\n",
       "      <td>27.85</td>\n",
       "      <td>266.86</td>\n",
       "      <td>307.36</td>\n",
       "      <td>335.72</td>\n",
       "      <td>315.91</td>\n",
       "      <td>100.59</td>\n",
       "      <td>117.75</td>\n",
       "      <td>14.26</td>\n",
       "      <td>NaN</td>\n",
       "    </tr>\n",
       "    <tr>\n",
       "      <th>97</th>\n",
       "      <td>Trivandrum</td>\n",
       "      <td>2021</td>\n",
       "      <td>18.20</td>\n",
       "      <td>15.52</td>\n",
       "      <td>32.49</td>\n",
       "      <td>34.01</td>\n",
       "      <td>25.18</td>\n",
       "      <td>27.21</td>\n",
       "      <td>26.51</td>\n",
       "      <td>31.34</td>\n",
       "      <td>...</td>\n",
       "      <td>26.77</td>\n",
       "      <td>10.64</td>\n",
       "      <td>271.02</td>\n",
       "      <td>240.15</td>\n",
       "      <td>274.62</td>\n",
       "      <td>277.94</td>\n",
       "      <td>101.55</td>\n",
       "      <td>80.50</td>\n",
       "      <td>14.02</td>\n",
       "      <td>4.19</td>\n",
       "    </tr>\n",
       "    <tr>\n",
       "      <th>98</th>\n",
       "      <td>Trivandrum</td>\n",
       "      <td>2022</td>\n",
       "      <td>18.68</td>\n",
       "      <td>18.79</td>\n",
       "      <td>32.98</td>\n",
       "      <td>28.11</td>\n",
       "      <td>28.49</td>\n",
       "      <td>29.28</td>\n",
       "      <td>27.47</td>\n",
       "      <td>28.66</td>\n",
       "      <td>...</td>\n",
       "      <td>35.78</td>\n",
       "      <td>28.49</td>\n",
       "      <td>268.16</td>\n",
       "      <td>188.21</td>\n",
       "      <td>311.00</td>\n",
       "      <td>272.21</td>\n",
       "      <td>117.54</td>\n",
       "      <td>51.21</td>\n",
       "      <td>22.25</td>\n",
       "      <td>NaN</td>\n",
       "    </tr>\n",
       "    <tr>\n",
       "      <th>99</th>\n",
       "      <td>Trivandrum</td>\n",
       "      <td>2023</td>\n",
       "      <td>19.68</td>\n",
       "      <td>22.38</td>\n",
       "      <td>30.31</td>\n",
       "      <td>27.73</td>\n",
       "      <td>30.71</td>\n",
       "      <td>24.80</td>\n",
       "      <td>32.05</td>\n",
       "      <td>28.38</td>\n",
       "      <td>...</td>\n",
       "      <td>17.33</td>\n",
       "      <td>25.89</td>\n",
       "      <td>303.11</td>\n",
       "      <td>211.84</td>\n",
       "      <td>246.90</td>\n",
       "      <td>280.96</td>\n",
       "      <td>114.64</td>\n",
       "      <td>94.27</td>\n",
       "      <td>7.07</td>\n",
       "      <td>2.83</td>\n",
       "    </tr>\n",
       "  </tbody>\n",
       "</table>\n",
       "<p>100 rows × 27 columns</p>\n",
       "</div>"
      ],
      "text/plain": [
       "      District  Year  Avg_Temperature_C_Jan  Avg_Temperature_C_Feb  \\\n",
       "0    Ahmedabad  2019                  15.61                  20.39   \n",
       "1    Ahmedabad  2020                  16.87                  21.08   \n",
       "2    Ahmedabad  2021                  21.03                  15.95   \n",
       "3    Ahmedabad  2022                  15.78                  18.41   \n",
       "4    Ahmedabad  2023                  18.20                  14.47   \n",
       "..         ...   ...                    ...                    ...   \n",
       "95  Trivandrum  2019                  17.09                  18.65   \n",
       "96  Trivandrum  2020                  18.08                  19.48   \n",
       "97  Trivandrum  2021                  18.20                  15.52   \n",
       "98  Trivandrum  2022                  18.68                  18.79   \n",
       "99  Trivandrum  2023                  19.68                  22.38   \n",
       "\n",
       "    Avg_Temperature_C_Mar  Avg_Temperature_C_Apr  Avg_Temperature_C_May  \\\n",
       "0                   31.60                  29.65                  31.64   \n",
       "1                   38.18                  35.07                  34.34   \n",
       "2                   35.66                  35.44                  35.60   \n",
       "3                   23.39                  34.70                  33.06   \n",
       "4                   32.74                  27.31                  34.38   \n",
       "..                    ...                    ...                    ...   \n",
       "95                  33.87                  35.12                  34.01   \n",
       "96                  31.31                  24.31                  39.24   \n",
       "97                  32.49                  34.01                  25.18   \n",
       "98                  32.98                  28.11                  28.49   \n",
       "99                  30.31                  27.73                  30.71   \n",
       "\n",
       "    Avg_Temperature_C_Jun  Avg_Temperature_C_Jul  Avg_Temperature_C_Aug  ...  \\\n",
       "0                   26.23                  29.44                  31.45  ...   \n",
       "1                   26.36                  27.66                  29.39  ...   \n",
       "2                   25.49                  25.18                  26.94  ...   \n",
       "3                   28.79                  28.71                  26.05  ...   \n",
       "4                   28.59                  28.93                  24.77  ...   \n",
       "..                    ...                    ...                    ...  ...   \n",
       "95                  24.89                  28.75                  26.26  ...   \n",
       "96                  27.96                  28.04                  25.64  ...   \n",
       "97                  27.21                  26.51                  31.34  ...   \n",
       "98                  29.28                  27.47                  28.66  ...   \n",
       "99                  24.80                  32.05                  28.38  ...   \n",
       "\n",
       "    Rainfall_mm_Apr  Rainfall_mm_May  Rainfall_mm_Jun  Rainfall_mm_Jul  \\\n",
       "0             26.48            24.20           258.13           261.36   \n",
       "1             25.93            14.49           279.83           257.34   \n",
       "2             16.96             0.63           297.43           221.28   \n",
       "3             27.78             9.02           251.33           286.08   \n",
       "4             14.71             7.46           212.17           278.22   \n",
       "..              ...              ...              ...              ...   \n",
       "95            19.24             9.28           320.89           234.90   \n",
       "96            18.09            27.85           266.86           307.36   \n",
       "97            26.77            10.64           271.02           240.15   \n",
       "98            35.78            28.49           268.16           188.21   \n",
       "99            17.33            25.89           303.11           211.84   \n",
       "\n",
       "    Rainfall_mm_Aug  Rainfall_mm_Sep  Rainfall_mm_Oct  Rainfall_mm_Nov  \\\n",
       "0            260.02           326.63            47.18           137.88   \n",
       "1            327.77           353.88            94.19            44.00   \n",
       "2            318.57           288.51            94.15           112.05   \n",
       "3            235.38           268.94            72.32           147.04   \n",
       "4            338.24           239.49           134.46           101.85   \n",
       "..              ...              ...              ...              ...   \n",
       "95           336.27           362.13           119.15           118.10   \n",
       "96           335.72           315.91           100.59           117.75   \n",
       "97           274.62           277.94           101.55            80.50   \n",
       "98           311.00           272.21           117.54            51.21   \n",
       "99           246.90           280.96           114.64            94.27   \n",
       "\n",
       "    Rainfall_mm_Dec  Crop_Yield_t_per_ha  \n",
       "0             45.58                  NaN  \n",
       "1             18.78                  NaN  \n",
       "2             33.90                 2.74  \n",
       "3             19.86                  NaN  \n",
       "4             26.93                 3.62  \n",
       "..              ...                  ...  \n",
       "95            18.37                  NaN  \n",
       "96            14.26                  NaN  \n",
       "97            14.02                 4.19  \n",
       "98            22.25                  NaN  \n",
       "99             7.07                 2.83  \n",
       "\n",
       "[100 rows x 27 columns]"
      ]
     },
     "execution_count": 30,
     "metadata": {},
     "output_type": "execute_result"
    }
   ],
   "source": [
    "pivot_df_2"
   ]
  },
  {
   "cell_type": "markdown",
   "id": "69c9ecac",
   "metadata": {},
   "source": [
    "# Inputation of Crop yield values "
   ]
  },
  {
   "cell_type": "markdown",
   "id": "43f5bc96",
   "metadata": {},
   "source": [
    "### function for KNN imputation"
   ]
  },
  {
   "cell_type": "code",
   "execution_count": 31,
   "id": "f10049c0",
   "metadata": {},
   "outputs": [],
   "source": [
    "def knn_inputation(pivot_df):\n",
    "    df_knn = pivot_df.copy()\n",
    "    num_cols = df_knn.select_dtypes(include='number').columns\n",
    "    cols_to_impute = num_cols.drop(['season_year', 'Year'], errors='ignore')\n",
    "    imputer = KNNImputer(n_neighbors=3)\n",
    "    df_knn[cols_to_impute] = imputer.fit_transform(df_knn[cols_to_impute])\n",
    "    return df_knn"
   ]
  },
  {
   "cell_type": "markdown",
   "id": "b4239c01",
   "metadata": {},
   "source": [
    "### function for Regression imputation"
   ]
  },
  {
   "cell_type": "code",
   "execution_count": 32,
   "id": "ece40ceb",
   "metadata": {},
   "outputs": [],
   "source": [
    "def regression_inputation(pivot_df):\n",
    "    df_reg = pivot_df.copy()\n",
    "\n",
    "    train_df = df_reg[df_reg[\"Crop_Yield_t_per_ha\"].notna()]\n",
    "    test_df = df_reg[df_reg[\"Crop_Yield_t_per_ha\"].isna()]\n",
    "\n",
    "    features = [col for col in df_reg.columns if col not in ['District', 'Crop_Yield_t_per_ha', 'Year', 'season_year']]\n",
    "\n",
    "    X_train = train_df[features]\n",
    "    y_train = train_df[\"Crop_Yield_t_per_ha\"]\n",
    "    X_test = test_df[features]\n",
    "\n",
    "    reg = LinearRegression()\n",
    "\n",
    "    reg.fit(X_train, y_train)\n",
    "    df_reg.loc[df_reg[\"Crop_Yield_t_per_ha\"].isna(), \"Crop_Yield_t_per_ha\"] = reg.predict(X_test)\n",
    "    return df_reg"
   ]
  },
  {
   "cell_type": "code",
   "execution_count": null,
   "id": "31c7bc0e",
   "metadata": {},
   "outputs": [
    {
     "name": "stdout",
     "output_type": "stream",
     "text": [
      "Saved data\\approach_1\\knn_imputation.csv\n",
      "Saved data\\approach_1\\regression_imputation.csv\n",
      "Saved data\\approach_2\\knn_imputation.csv\n",
      "Saved data\\approach_2\\regression_imputation.csv\n"
     ]
    }
   ],
   "source": [
    "\n",
    "\n",
    "dataframes = {\n",
    "    \"approach_1\": pivot_df_1,\n",
    "    \"approach_2\": pivot_df_2\n",
    "}\n",
    "\n",
    "imputation_functions = {\n",
    "    \"knn_imputation\": knn_inputation,\n",
    "    \"regression_imputation\": regression_inputation\n",
    "}\n",
    "\n",
    "base_folder = \"data\"\n",
    "\n",
    "for approach_name, df in dataframes.items():\n",
    "    approach_folder = os.path.join(base_folder, approach_name)\n",
    "    os.makedirs(approach_folder, exist_ok=True)\n",
    "    \n",
    "    for impute_name, impute_func in imputation_functions.items():\n",
    "        \n",
    "        df_imputed = impute_func(df.copy())\n",
    "        \n",
    "        file_path = os.path.join(approach_folder, f\"{impute_name}.csv\")\n",
    "        df_imputed.to_csv(file_path, index=False)\n",
    "        print(f\"Saved {file_path}\")"
   ]
  }
 ],
 "metadata": {
  "kernelspec": {
   "display_name": "Python 3",
   "language": "python",
   "name": "python3"
  },
  "language_info": {
   "codemirror_mode": {
    "name": "ipython",
    "version": 3
   },
   "file_extension": ".py",
   "mimetype": "text/x-python",
   "name": "python",
   "nbconvert_exporter": "python",
   "pygments_lexer": "ipython3",
   "version": "3.10.11"
  }
 },
 "nbformat": 4,
 "nbformat_minor": 5
}
